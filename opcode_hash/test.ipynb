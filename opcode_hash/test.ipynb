{
 "cells": [
  {
   "cell_type": "code",
   "execution_count": 8,
   "metadata": {
    "collapsed": true
   },
   "outputs": [],
   "source": [
    "import pandas as pd\n",
    "import numpy as np\n",
    "df = pd.read_csv('./test/malware/opcode.csv')"
   ]
  },
  {
   "cell_type": "code",
   "execution_count": 9,
   "metadata": {
    "collapsed": false
   },
   "outputs": [
    {
     "data": {
      "text/html": [
       "<div>\n",
       "<style>\n",
       "    .dataframe thead tr:only-child th {\n",
       "        text-align: right;\n",
       "    }\n",
       "\n",
       "    .dataframe thead th {\n",
       "        text-align: left;\n",
       "    }\n",
       "\n",
       "    .dataframe tbody tr th {\n",
       "        vertical-align: top;\n",
       "    }\n",
       "</style>\n",
       "<table border=\"1\" class=\"dataframe\">\n",
       "  <thead>\n",
       "    <tr style=\"text-align: right;\">\n",
       "      <th></th>\n",
       "      <th>opcode_name</th>\n",
       "      <th>bit_1</th>\n",
       "      <th>bit_2</th>\n",
       "      <th>bit_3</th>\n",
       "      <th>bit_4</th>\n",
       "      <th>bit_5</th>\n",
       "      <th>bit_6</th>\n",
       "      <th>bit_7</th>\n",
       "      <th>bit_8</th>\n",
       "      <th>bit_9</th>\n",
       "      <th>...</th>\n",
       "      <th>bit_40</th>\n",
       "      <th>bit_41</th>\n",
       "      <th>bit_42</th>\n",
       "      <th>bit_43</th>\n",
       "      <th>bit_44</th>\n",
       "      <th>bit_45</th>\n",
       "      <th>bit_46</th>\n",
       "      <th>bit_47</th>\n",
       "      <th>bit_48</th>\n",
       "      <th>label</th>\n",
       "    </tr>\n",
       "  </thead>\n",
       "  <tbody>\n",
       "    <tr>\n",
       "      <th>0</th>\n",
       "      <td>../datas/newdownload/combined/201707/malicious...</td>\n",
       "      <td>1</td>\n",
       "      <td>1</td>\n",
       "      <td>0</td>\n",
       "      <td>0</td>\n",
       "      <td>1</td>\n",
       "      <td>1</td>\n",
       "      <td>0</td>\n",
       "      <td>1</td>\n",
       "      <td>0</td>\n",
       "      <td>...</td>\n",
       "      <td>1</td>\n",
       "      <td>0</td>\n",
       "      <td>1</td>\n",
       "      <td>0</td>\n",
       "      <td>1</td>\n",
       "      <td>0</td>\n",
       "      <td>0</td>\n",
       "      <td>0</td>\n",
       "      <td>0</td>\n",
       "      <td>1.0</td>\n",
       "    </tr>\n",
       "    <tr>\n",
       "      <th>1</th>\n",
       "      <td>../datas/newdownload/combined/201707/malicious...</td>\n",
       "      <td>0</td>\n",
       "      <td>0</td>\n",
       "      <td>0</td>\n",
       "      <td>0</td>\n",
       "      <td>1</td>\n",
       "      <td>0</td>\n",
       "      <td>1</td>\n",
       "      <td>0</td>\n",
       "      <td>1</td>\n",
       "      <td>...</td>\n",
       "      <td>1</td>\n",
       "      <td>0</td>\n",
       "      <td>1</td>\n",
       "      <td>0</td>\n",
       "      <td>1</td>\n",
       "      <td>0</td>\n",
       "      <td>1</td>\n",
       "      <td>0</td>\n",
       "      <td>0</td>\n",
       "      <td>1.0</td>\n",
       "    </tr>\n",
       "    <tr>\n",
       "      <th>2</th>\n",
       "      <td>../datas/newdownload/combined/201707/malicious...</td>\n",
       "      <td>1</td>\n",
       "      <td>0</td>\n",
       "      <td>0</td>\n",
       "      <td>1</td>\n",
       "      <td>1</td>\n",
       "      <td>0</td>\n",
       "      <td>1</td>\n",
       "      <td>1</td>\n",
       "      <td>0</td>\n",
       "      <td>...</td>\n",
       "      <td>0</td>\n",
       "      <td>0</td>\n",
       "      <td>1</td>\n",
       "      <td>1</td>\n",
       "      <td>0</td>\n",
       "      <td>1</td>\n",
       "      <td>1</td>\n",
       "      <td>1</td>\n",
       "      <td>0</td>\n",
       "      <td>1.0</td>\n",
       "    </tr>\n",
       "    <tr>\n",
       "      <th>3</th>\n",
       "      <td>../datas/newdownload/combined/201707/malicious...</td>\n",
       "      <td>1</td>\n",
       "      <td>0</td>\n",
       "      <td>1</td>\n",
       "      <td>0</td>\n",
       "      <td>0</td>\n",
       "      <td>0</td>\n",
       "      <td>1</td>\n",
       "      <td>1</td>\n",
       "      <td>1</td>\n",
       "      <td>...</td>\n",
       "      <td>0</td>\n",
       "      <td>1</td>\n",
       "      <td>1</td>\n",
       "      <td>1</td>\n",
       "      <td>1</td>\n",
       "      <td>0</td>\n",
       "      <td>0</td>\n",
       "      <td>0</td>\n",
       "      <td>0</td>\n",
       "      <td>1.0</td>\n",
       "    </tr>\n",
       "    <tr>\n",
       "      <th>4</th>\n",
       "      <td>../datas/newdownload/combined/201707/malicious...</td>\n",
       "      <td>1</td>\n",
       "      <td>1</td>\n",
       "      <td>0</td>\n",
       "      <td>0</td>\n",
       "      <td>1</td>\n",
       "      <td>1</td>\n",
       "      <td>0</td>\n",
       "      <td>1</td>\n",
       "      <td>0</td>\n",
       "      <td>...</td>\n",
       "      <td>1</td>\n",
       "      <td>0</td>\n",
       "      <td>1</td>\n",
       "      <td>0</td>\n",
       "      <td>1</td>\n",
       "      <td>0</td>\n",
       "      <td>0</td>\n",
       "      <td>0</td>\n",
       "      <td>0</td>\n",
       "      <td>1.0</td>\n",
       "    </tr>\n",
       "  </tbody>\n",
       "</table>\n",
       "<p>5 rows × 50 columns</p>\n",
       "</div>"
      ],
      "text/plain": [
       "                                         opcode_name  bit_1  bit_2  bit_3  \\\n",
       "0  ../datas/newdownload/combined/201707/malicious...      1      1      0   \n",
       "1  ../datas/newdownload/combined/201707/malicious...      0      0      0   \n",
       "2  ../datas/newdownload/combined/201707/malicious...      1      0      0   \n",
       "3  ../datas/newdownload/combined/201707/malicious...      1      0      1   \n",
       "4  ../datas/newdownload/combined/201707/malicious...      1      1      0   \n",
       "\n",
       "   bit_4  bit_5  bit_6  bit_7  bit_8  bit_9  ...    bit_40  bit_41  bit_42  \\\n",
       "0      0      1      1      0      1      0  ...         1       0       1   \n",
       "1      0      1      0      1      0      1  ...         1       0       1   \n",
       "2      1      1      0      1      1      0  ...         0       0       1   \n",
       "3      0      0      0      1      1      1  ...         0       1       1   \n",
       "4      0      1      1      0      1      0  ...         1       0       1   \n",
       "\n",
       "   bit_43  bit_44  bit_45  bit_46  bit_47  bit_48  label  \n",
       "0       0       1       0       0       0       0    1.0  \n",
       "1       0       1       0       1       0       0    1.0  \n",
       "2       1       0       1       1       1       0    1.0  \n",
       "3       1       1       0       0       0       0    1.0  \n",
       "4       0       1       0       0       0       0    1.0  \n",
       "\n",
       "[5 rows x 50 columns]"
      ]
     },
     "execution_count": 9,
     "metadata": {},
     "output_type": "execute_result"
    }
   ],
   "source": [
    "df.head()"
   ]
  },
  {
   "cell_type": "code",
   "execution_count": 10,
   "metadata": {
    "collapsed": false
   },
   "outputs": [
    {
     "data": {
      "text/plain": [
       "Index([u'opcode_name', u'bit_1', u'bit_2', u'bit_3', u'bit_4', u'bit_5',\n",
       "       u'bit_6', u'bit_7', u'bit_8', u'bit_9', u'bit_10', u'bit_11', u'bit_12',\n",
       "       u'bit_13', u'bit_14', u'bit_15', u'bit_16', u'bit_17', u'bit_18',\n",
       "       u'bit_19', u'bit_20', u'bit_21', u'bit_22', u'bit_23', u'bit_24',\n",
       "       u'bit_25', u'bit_26', u'bit_27', u'bit_28', u'bit_29', u'bit_30',\n",
       "       u'bit_31', u'bit_32', u'bit_33', u'bit_34', u'bit_35', u'bit_36',\n",
       "       u'bit_37', u'bit_38', u'bit_39', u'bit_40', u'bit_41', u'bit_42',\n",
       "       u'bit_43', u'bit_44', u'bit_45', u'bit_46', u'bit_47', u'bit_48',\n",
       "       u'label'],\n",
       "      dtype='object')"
      ]
     },
     "execution_count": 10,
     "metadata": {},
     "output_type": "execute_result"
    }
   ],
   "source": [
    "df.columns"
   ]
  },
  {
   "cell_type": "code",
   "execution_count": 11,
   "metadata": {
    "collapsed": false
   },
   "outputs": [
    {
     "data": {
      "text/plain": [
       "RangeIndex(start=0, stop=813, step=1)"
      ]
     },
     "execution_count": 11,
     "metadata": {},
     "output_type": "execute_result"
    }
   ],
   "source": [
    "df.index"
   ]
  },
  {
   "cell_type": "code",
   "execution_count": 14,
   "metadata": {
    "collapsed": false
   },
   "outputs": [],
   "source": [
    "new_col = df.columns[df.columns!='opcode_name']"
   ]
  },
  {
   "cell_type": "code",
   "execution_count": 15,
   "metadata": {
    "collapsed": true
   },
   "outputs": [],
   "source": [
    "x=[]\n",
    "x.append(df[new_col].as_matrix())"
   ]
  },
  {
   "cell_type": "code",
   "execution_count": 17,
   "metadata": {
    "collapsed": false
   },
   "outputs": [
    {
     "data": {
      "text/plain": [
       "(813L, 49L)"
      ]
     },
     "execution_count": 17,
     "metadata": {},
     "output_type": "execute_result"
    }
   ],
   "source": [
    "x[0].shape"
   ]
  },
  {
   "cell_type": "code",
   "execution_count": null,
   "metadata": {
    "collapsed": true
   },
   "outputs": [],
   "source": []
  }
 ],
 "metadata": {
  "kernelspec": {
   "display_name": "Python 2",
   "language": "python",
   "name": "python2"
  },
  "language_info": {
   "codemirror_mode": {
    "name": "ipython",
    "version": 2
   },
   "file_extension": ".py",
   "mimetype": "text/x-python",
   "name": "python",
   "nbconvert_exporter": "python",
   "pygments_lexer": "ipython2",
   "version": "2.7.13"
  }
 },
 "nbformat": 4,
 "nbformat_minor": 2
}
